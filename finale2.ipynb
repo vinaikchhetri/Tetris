{
  "nbformat": 4,
  "nbformat_minor": 0,
  "metadata": {
    "kernelspec": {
      "display_name": "Python 3",
      "language": "python",
      "name": "python3"
    },
    "language_info": {
      "codemirror_mode": {
        "name": "ipython",
        "version": 3
      },
      "file_extension": ".py",
      "mimetype": "text/x-python",
      "name": "python",
      "nbconvert_exporter": "python",
      "pygments_lexer": "ipython3",
      "version": "3.7.6"
    },
    "colab": {
      "name": " finale2.ipynb",
      "provenance": [],
      "include_colab_link": true
    }
  },
  "cells": [
    {
      "cell_type": "markdown",
      "metadata": {
        "id": "view-in-github",
        "colab_type": "text"
      },
      "source": [
        "<a href=\"https://colab.research.google.com/github/vinaikchhetri/Tetris/blob/master/finale2.ipynb\" target=\"_parent\"><img src=\"https://colab.research.google.com/assets/colab-badge.svg\" alt=\"Open In Colab\"/></a>"
      ]
    },
    {
      "cell_type": "code",
      "metadata": {
        "id": "uUiWHloi4zMU"
      },
      "source": [
        "import numpy as np\n",
        "np.set_printoptions(precision = 4, suppress = True)\n",
        "import matplotlib\n",
        "import matplotlib.pyplot as plt\n",
        "import ipywidgets\n",
        "from copy import copy\n",
        "import random\n",
        "import scipy.stats\n"
      ],
      "execution_count": 60,
      "outputs": []
    },
    {
      "cell_type": "code",
      "metadata": {
        "id": "rd9SiNvCu8EP"
      },
      "source": [
        "twoDWorldb = []\n",
        "twoDWorldw = []\n",
        "c = [['black','black','black','black','black','black','black','white','white','white'],['black','black','black','black','black','black','black','white','white','white']\n",
        "     ,['black','black','black','black','black','black','black','white','white','white'],['black','black','black','black','black','black','black','black','black','black']];\n",
        "mapTile = np.array(c)\n",
        "y = 4\n",
        "\n",
        "for i in range(4):\n",
        "  x = -2;\n",
        "  y = y - 2\n",
        "  for j in range(10):\n",
        "    x = x + 2\n",
        "    if c[i][j] == 'black':\n",
        "      twoDWorldb.append(matplotlib.patches.Rectangle((x, y),\n",
        "                                      2, 2,\n",
        "                                      alpha = 0.5,\n",
        "                                      color = c[i][j]))\n",
        "    else:\n",
        "      twoDWorldw.append(matplotlib.patches.Rectangle((x,y),\n",
        "                                      2, 2,\n",
        "                                      alpha = 0.1,\n",
        "                                      color = c[i][j]))\n",
        "mapTile = mapTile=='black'\n",
        "mapTile = (mapTile).astype(int)"
      ],
      "execution_count": 61,
      "outputs": []
    },
    {
      "cell_type": "code",
      "metadata": {
        "id": "7nMFDsqKOldV"
      },
      "source": [
        "def mktr(x, y):\n",
        "    return np.array([[1,0,x],\n",
        "                     [0,1,y],\n",
        "                     [0,0,1]])\n",
        "\n",
        "def mkrot(theta):\n",
        "    return np.array([[np.cos(theta),-np.sin(theta),0],\n",
        "                     [np.sin(theta), np.cos(theta),0],\n",
        "                     [0,0,1]])\n",
        "\n",
        "def drawf(f, ax = None, name = None):\n",
        "    \"\"\" Draw frame defined by f on axis ax (if provided) or on plt.gca() otherwise \"\"\"\n",
        "    xhat = f @ np.array([[0,0,1],[1,0,1]]).T\n",
        "    yhat = f @ np.array([[0,0,1],[0,1,1]]).T\n",
        "    if(not ax):\n",
        "        ax = plt.gca()\n",
        "    ax.plot(xhat[0,:],xhat[1,:],'r-') # transformed x unit vector\n",
        "    ax.plot(yhat[0,:],yhat[1,:],'g-') # transformed y unit vector\n",
        "    if(name):\n",
        "        ax.text(xhat[0,0],xhat[1,0],name,va=\"top\",ha=\"center\")"
      ],
      "execution_count": 62,
      "outputs": []
    },
    {
      "cell_type": "code",
      "metadata": {
        "id": "xLv3b89MOldW"
      },
      "source": [
        "def bctr(v,gamma,L,dt):\n",
        "    \"\"\" returns the pose transform for a motion with duration dt of a steerable\n",
        "    robot (bicycle model) with back wheel speed v, steering gamma and wheel distance L \"\"\"\n",
        "    \n",
        "    if(np.isclose(gamma,0)): # we are moving straight, R is at the infinity and we handle this case separately\n",
        "        return mktr(v*dt,0)  # note we translate along x\n",
        "    \n",
        "    R = L / np.tan(gamma) # Make sure you understand this!\n",
        "    omega = v / R         # Make sure you understand this!\n",
        "    \n",
        "    return mktr(0,R) @ mkrot(omega * dt) @ mktr(0,-R) "
      ],
      "execution_count": 63,
      "outputs": []
    },
    {
      "cell_type": "code",
      "metadata": {
        "id": "e5YR3uKAOldX"
      },
      "source": [
        "def drawrobot_bicycle(f, particles, gamma, L, ax = None, alpha = 0.5,patch=\"yes\"):\n",
        "    \"\"\" Draw bicycle robot at pose f, with wheel distance L,\n",
        "    on axis ax (if provided) or on plt.gca() otherwise. \"\"\"\n",
        "    \n",
        "    if(not ax):\n",
        "        ax = plt.gca()\n",
        "    \n",
        "    # This is the chassis of the robot, a thin arrow\n",
        "    robot = ([[ 0  , 1  , 1  , 0  , 0  ],  # x\n",
        "              [-0.3,-0.1, 0.1, 0.3,-0.3]]) # y \n",
        "    robot = np.array(robot)\n",
        "    robot = np.vstack((\n",
        "        robot * L, # scale by L units: back is center of the back wheel; tip is the center of the front wheel\n",
        "        np.ones((1,robot.shape[1]))))\n",
        "    # ... and now it's in homogeneous coordinates\n",
        "\n",
        "    # define back and front wheels\n",
        "    wheelb = np.array([\n",
        "        [-L*0.3, +L*0.3], # wheel diameter does not matter. It's now 0.6*L\n",
        "        [ 0,      0    ],\n",
        "        [ 1,      1    ]\n",
        "    ])    \n",
        "    wheelf = mktr(L,0) @ mkrot(gamma) @ wheelb # make sure you understand this!\n",
        "    \n",
        "    # transform robot and both wheels\n",
        "    robott = f @ robot\n",
        "    wheelbt = f @ wheelb\n",
        "    wheelft = f @ wheelf\n",
        "\n",
        "    if patch==\"yes\":\n",
        "      for i in range(len(twoDWorldb)):\n",
        "        ax.add_patch(copy(twoDWorldb[i]))\n",
        "\n",
        "      for i in range(len(twoDWorldw)):\n",
        "        ax.add_patch(copy(twoDWorldw[i]))\n",
        "\n",
        "    plt.xlim([0, 20])\n",
        "    plt.ylim([-4, 4])\n",
        "    \n",
        "    ax.plot(robott[0,:],robott[1,:],'k-',alpha=alpha)   # Draw the chassis\n",
        "    ax.plot(wheelbt[0,:],wheelbt[1,:],'k-',alpha=alpha, linewidth = 2) # Draw the back wheel\n",
        "    ax.plot(wheelft[0,:],wheelft[1,:],'k-',alpha=alpha, linewidth = 2) # Draw the front wheel\n",
        "    \n",
        "    desired_xy = np.array([2, 2])\n",
        "    ax.plot(*desired_xy, \"*\",c=\"red\")\n",
        "    plot_particles(ax,particles)"
      ],
      "execution_count": 64,
      "outputs": []
    },
    {
      "cell_type": "code",
      "metadata": {
        "id": "sulO9Ve6zb9V"
      },
      "source": [
        "from numpy.random import uniform\n",
        "def create_uniform_particles(N):\n",
        "    particles = np.empty((N, 3))\n",
        "    particles[:, 0] = uniform(0, 20, size=N) #random x\n",
        "    particles[:, 1] = uniform(-4, 4, size=N) #random y\n",
        "    particles[:, 2] = uniform(-np.pi, np.pi, size=N) #random theta\n",
        "    return particles"
      ],
      "execution_count": 65,
      "outputs": []
    },
    {
      "cell_type": "code",
      "metadata": {
        "id": "0dEXVq2nOlda"
      },
      "source": [
        "class BCRobot:\n",
        "    def __init__(self, initial_pose, L):\n",
        "        self.pose = initial_pose # will always store the current pose\n",
        "        self.L = L\n",
        "        p = np.array([[1/1000] for i in range(1000)])\n",
        "        I = create_uniform_particles(1000)\n",
        "        I = np.concatenate((I, p), axis=1)\n",
        "        self.r = I\n",
        "        \n",
        "    def step(self, v, gamma, dt):\n",
        "        self.pose = self.pose @ bctr(v, gamma, self.L, dt) # this is where the magic happens\n",
        "        return self.pose\n",
        "    \n",
        "    def getxy(self):\n",
        "        return self.pose[0:2,2] # extracts [x,y] from current pose\n",
        "    \n",
        "    def gettheta(self): # sin(theta)      cos(theta)\n",
        "        return np.arctan2(self.pose[1,0], self.pose[0,0])"
      ],
      "execution_count": 66,
      "outputs": []
    },
    {
      "cell_type": "code",
      "metadata": {
        "id": "6XUrEXqu0mLi"
      },
      "source": [
        "def motion_update(X,v,gamma):\n",
        "  #print(\"X[3]\",X[3,0:2])\n",
        "  for i in range(len(X)):\n",
        "    X[i,2] = X[i,2] + gamma\n",
        "    f = bctr(v, X[i,2], L, 0.1)\n",
        "    cord = (X[i,0:2])\n",
        "    m = np.eye(3)\n",
        "    m[0,2] = cord[0]  \n",
        "    m[1,2] = cord[1]\n",
        "    #cord = np.append(cord,1).reshape(3,1)\n",
        "    #np.append(cord,[[1]],axis=0)\n",
        "    #print(\"cord\",cord)\n",
        "    transformed = m@f\n",
        "    #print(\"trans\",transformed)\n",
        "    X[i,0:2] = transformed[0:2,2]\n",
        "  #print(\"X[3]2nd\",X[3,0:2])\n",
        "  X = X[X[:,0] <= 20]\n",
        "  X = X[X[:,0] >= 0]\n",
        "  X = X[X[:,1] <= 4]\n",
        "  X = X[X[:,1] >= -4]\n",
        "  return X\n"
      ],
      "execution_count": 67,
      "outputs": []
    },
    {
      "cell_type": "code",
      "metadata": {
        "id": "EXeq-tYe0rRP"
      },
      "source": [
        "def sensor_update(X, sensor_reading, map_Tile):\n",
        "\n",
        "  #Convert float/double particle locations to integers\n",
        "  locx = np.floor(X[:,0]).astype(int)\n",
        "  locy = np.floor(X[:,1]).astype(int)\n",
        "  \n",
        "  for i in range(len(locx)):\n",
        "    \n",
        "    if locx[i] >= 20:\n",
        "      locx[i] = 9\n",
        "    elif locx[i]%2 == 0:\n",
        "      locx[i] = locx[i]/2\n",
        "    else:\n",
        "      locx[i] = locx[i]//2\n",
        "\n",
        "  for i in range(len(locy)):\n",
        "    \n",
        "    if locy[i] >= 2 and locy[i] <= 4:\n",
        "      locy[i] = 0\n",
        "    elif locy[i] >= 0 and locy[i] <= 1:\n",
        "      locy[i] = 1\n",
        "    elif locy[i]>=-2 and locy[i] <= -1: \n",
        "      locy[i] = 2\n",
        "    else:\n",
        "      locy[i] = 3\n",
        "  \n",
        " \n",
        "  #given locations of particles find colour of tile in map according to coordinates/odometry\n",
        "  #predict_sensor = map_Tile[loc.astype(int)]\n",
        "  predict_sensor = np.zeros(len(X))\n",
        "  # predict_sensor = []\n",
        "  # print(\"length of X\",len(X))\n",
        "  # print(\"length of X\",X.shape)\n",
        "  for i in range(len(X)):\n",
        "    predict_sensor[i]=(map_Tile[locy[i]][int(locx[i])])\n",
        "\n",
        "  #print(\"predict sensor\",predict_sensor)\n",
        "  #print(\"sensor reading\",sensor_reading)\n",
        "  #print(\"equality indices\",X[predict_sensor==sensor_reading])\n",
        "  # #Probability of actual sensor reading given predicted sensor readings corresponding to each predicted sensor reading. 1 probability distribution per particle.\n",
        "  distribution = scipy.stats.norm(predict_sensor,0.1).pdf(sensor_reading)\n",
        "  #print(\"Liklihood of actual sensor reading given current coordinates of particles\",distribution)\n",
        "  # #update weights\n",
        "  X[:,3] = X[:,3] * distribution\n",
        "  #print(\"new weights\",X[:,3])\n",
        "  # #normalize \n",
        "  X[:,3] = X[:,3] / sum(X[:,3])\n",
        "  #print(\"normalized new weights\",X[:,3])\n",
        "  return X\n",
        "\n"
      ],
      "execution_count": 68,
      "outputs": []
    },
    {
      "cell_type": "code",
      "metadata": {
        "id": "1ip0Vu_703NJ"
      },
      "source": [
        "def detect_color(actual_location, map_Tile):\n",
        "  #Convert float/double particle locations to integers\n",
        "  locx = np.floor(actual_location[0])\n",
        "  locy = np.floor(actual_location[1])\n",
        "\n",
        "\n",
        "  if locx >= 20:\n",
        "    locx = np.floor(9.0)\n",
        "  elif locx%2 == 0:\n",
        "    locx = locx/2\n",
        "  else:\n",
        "    locx = locx//2\n",
        "  \n",
        "  locx = int(locx)\n",
        "\n",
        "\n",
        "  if locy >= 2 and locy <= 4:\n",
        "    locy = 0\n",
        "  elif locy >= 0 and locy < 2:\n",
        "    locy = 1\n",
        "  elif locy>=-2 and locy < 0: \n",
        "    locy = 2\n",
        "  elif locy>=-4 and locy < -2: \n",
        "    locy = 3\n",
        "  else :\n",
        "    donothing =0\n",
        "\n",
        "  n = random.randint(1,10)\n",
        "\n",
        "  if n==1:\n",
        "    print(\"error\")\n",
        "    return (map_Tile[locy][locx] + 1)%2\n",
        "  else:\n",
        "    return (map_Tile[locy][locx])"
      ],
      "execution_count": 69,
      "outputs": []
    },
    {
      "cell_type": "code",
      "metadata": {
        "id": "JHeaJQrQ08Ao"
      },
      "source": [
        "def MCL (X_m_1, actual_location, map_Tile,v, gamma):\n",
        "  \n",
        "  #motion update\n",
        "  X_bar = np.array(motion_update(X_m_1,v,gamma))\n",
        "\n",
        "  if X_bar.size == 0:\n",
        "    return X_bar\n",
        "  \n",
        "\n",
        "  #sense\n",
        "  z_t = detect_color(actual_location, map_Tile)\n",
        "\n",
        "  #sensor update\n",
        "  X_bar = sensor_update(X_bar, z_t, map_Tile)\n",
        "  pos_pro = []\n",
        "  for i in range(len(X_bar)):\n",
        "    if X_bar[i,3]>0:\n",
        "      pos_pro.append(X_bar[i])\n",
        "  X_bar = np.array(pos_pro)\n",
        "\n",
        "\n",
        "  #resample based on new weights\n",
        "  #if len(X_bar) >= 100:\n",
        "  #  num_part = len(X_bar/10)\n",
        "  #else: \n",
        "  #num_part = len(X_bar)\n",
        "  num_part = 500\n",
        "  #extract weights\n",
        "  temp = X_bar\n",
        "  newX = np.zeros([num_part,4])\n",
        "  #print(temp[:,3])\n",
        "  for i in range(num_part):\n",
        "    loca = np.random.choice(temp.shape[0],p=temp[:,3])\n",
        "    newX[i,:] = temp[loca]\n",
        "    newX[i,0] = scipy.stats.norm.rvs(size=1)+newX[i,0]\n",
        "    newX[i,1] = scipy.stats.norm.rvs(size=1)+newX[i,1]\n",
        "\n",
        "  #print(\"newly sampled X\",newX)\n",
        "  \n",
        "  #X_bar = X_bar[np.argsort(X_bar[:, 3])]\n",
        "  #cdf = np.cumsum(X_bar[:,3])\n",
        "  #cdf[-1] = 1\n",
        "  # print(\"X_bar\",X_bar)\n",
        "  # print(\"cdf\",cdf)\n",
        "  #X_bar[:,0:3] = random.choices(X_bar[:,0:3], cum_weights = cdf, k = len(X_bar))\n",
        "  # print(\"picked\",X_bar)\n",
        "  \n",
        "  #25% of the time replace with random numbers as particles gather at wrong places.\n",
        "  num=range(1,25)\n",
        "  \n",
        "  #generate random integers from 1 to 100\n",
        "  rep = random.randint(1,101)\n",
        "  #print(\"num_rep\",rep)\n",
        "  if rep<=25 and rep>=1:\n",
        "    num_reps = int(np.floor(0.05*len(newX)))\n",
        "    for n in  range(num_reps):\n",
        " \n",
        "      #ind = random.randint(0,len(newX)-1)\n",
        "      rep_particles = np.empty((1, 4))\n",
        "      rep_particles[:, 0] = uniform(0, 20, size=1) #random x\n",
        "      rep_particles[:, 1] = uniform(-4, 4, size=1) #random y\n",
        "      rep_particles[:, 2] = uniform(-np.pi, np.pi, size=1) #random theta\n",
        "      rep_particles[:, 3] = 0.2 #weight arbitrary\n",
        "      newX = np.concatenate((newX,rep_particles), axis=0)\n",
        "  #     # newX[ind,:] = rep_particles\n",
        "      \n",
        "  for i in range(len(newX[:,0])):\n",
        "    newX[i,3] = 1/len(newX[:,0])\n",
        "\n",
        "  X = newX \n",
        "  # for i in range(len(X_bar[:,0])):\n",
        "  #   X_bar[i,3] = 1/len(X_bar[:,0])\n",
        "\n",
        "  # X = X_bar\n",
        "  \n",
        "\n",
        "\n",
        "  return X  "
      ],
      "execution_count": 70,
      "outputs": []
    },
    {
      "cell_type": "code",
      "metadata": {
        "id": "1ERr_ox21Arg"
      },
      "source": [
        "def plot_particles(ax,X):\n",
        "    ax.scatter(X[:,0],X[:,1],c='blue') \n",
        "    plt.pause(0.5)"
      ],
      "execution_count": 71,
      "outputs": []
    },
    {
      "cell_type": "code",
      "metadata": {
        "id": "TUVw3eja7bOA"
      },
      "source": [
        "# This is a classic implementation: https://stackoverflow.com/a/2007279\n",
        "def angle_difference(angle1, angle2):\n",
        "    return np.arctan2(np.sin(angle1-angle2), np.cos(angle1-angle2))"
      ],
      "execution_count": 72,
      "outputs": []
    },
    {
      "cell_type": "code",
      "metadata": {
        "id": "-PKogm-LOwV0"
      },
      "source": [
        "# Then a PID controller\n",
        "class PID:\n",
        "    \n",
        "    def __init__(self, Kp, Ki, Kd):\n",
        "        self.Kp = Kp\n",
        "        self.Ki = Ki # NEW\n",
        "        self.Kd = Kd\n",
        "        self.last_e = None\n",
        "        self.sum_e = 0 # NEW\n",
        "        \n",
        "    def step(self, e, dt):\n",
        "        \"\"\" dt should be the time interval from the last method call \"\"\"\n",
        "        if(self.last_e is not None):\n",
        "            derivative = (e - self.last_e) / dt\n",
        "        else:\n",
        "            derivative = 0\n",
        "        self.last_e = e\n",
        "        self.sum_e += e * dt # NEW\n",
        "        return self.Kp * e + self.Kd * derivative + self.Ki * self.sum_e"
      ],
      "execution_count": 73,
      "outputs": []
    },
    {
      "cell_type": "code",
      "metadata": {
        "id": "SK18nbKD7NqE"
      },
      "source": [
        "from IPython.display import clear_output\n",
        "    "
      ],
      "execution_count": 74,
      "outputs": []
    },
    {
      "cell_type": "code",
      "metadata": {
        "colab": {
          "base_uri": "https://localhost:8080/",
          "height": 269
        },
        "id": "ovkfAqLaNuxZ",
        "outputId": "84d4ae80-2b25-403a-a076-247b101a733b"
      },
      "source": [
        "initial_pose = np.eye(3) @ mktr(2, 2) \n",
        "L = 1\n",
        "robot = BCRobot(initial_pose, L)\n",
        "maxsteer = np.pi/4  # we will limit our steering to this range\n",
        "maxspeed = 5\n",
        "desired_xy = np.array([18,3])\n",
        "#desired_xy = np.array([20, 0])\n",
        "\n",
        "speed_controller = PID(5, 0.2, 0.1)\n",
        "gamma_controller = PID(2, 0.2, 0.1)\n",
        "\n",
        "dt = 0.1\n",
        "ts = np.arange(0, 3, dt)\n",
        "\n",
        "\n",
        "for t in ts:  # we simulate 10 seconds\n",
        "    plt.pause(1)\n",
        "    clear_output(wait=True)\n",
        "    \n",
        "    x, y = robot.getxy()\n",
        "    theta = robot.gettheta()\n",
        "\n",
        "    # position of target in robot frame\n",
        "    target_rf = np.linalg.inv(robot.pose) @ np.array(\n",
        "        [[desired_xy[0], desired_xy[1], 1]]).T\n",
        "    angle_to_target = np.arctan2(target_rf[1, 0], target_rf[0, 0])\n",
        "    distance_to_target = target_rf[0, 0]\n",
        "\n",
        "    v = speed_controller.step(distance_to_target, dt)\n",
        "    v = np.clip(v, -maxspeed, +maxspeed)\n",
        "    gamma = gamma_controller.step(angle_to_target, dt)\n",
        "    gamma = np.clip(gamma, -maxsteer, +maxsteer)\n",
        "\n",
        "    #velocity measurement error\n",
        "    #25% of the time replace with random numbers as particles gather at wrong places.\n",
        "    num=range(1,16)\n",
        "    \n",
        "    #generate random integers from 1 to 100\n",
        "    rep = random.randint(1,101)\n",
        "    #print(\"num_rep\",rep)\n",
        "    if rep<=15 and rep>=1:\n",
        "      v = v + (0.1*v)\n",
        "      gamma = gamma + (0.01*gamma)\n",
        "    \n",
        "\n",
        "    robot.step(v, gamma, dt)\n",
        "    r = MCL(robot.r, robot.pose[0:2,2], mapTile, v, gamma)\n",
        "    if r.size == 0:\n",
        "      p = np.array([[1/1000] for i in range(1000)])\n",
        "      I = create_uniform_particles(1000)\n",
        "      I = np.concatenate((I, p), axis=1)\n",
        "    \n",
        "      robot.r = I\n",
        "    else:\n",
        "      robot.r = r\n",
        "    #print(rrr.pose)\n",
        "    #print(robot.r)\n",
        "    drawrobot_bicycle(robot.pose, robot.r,gamma, L)\n",
        "    #print(robot.r[:,2])\n",
        "\n",
        "x = robot.r[:,0]\n",
        "nx, binsx, patchesx = plt.hist(x, bins=20)\n",
        "xmode_index = nx.argmax()\n",
        "xs = binsx[xmode_index]\n",
        "#ind = np.argwhere(x==binsx[xmode_index])[0][0]\n",
        "#thet = robot.r[ind,2]\n",
        "\n",
        "y = robot.r[:,1]\n",
        "ny, binsy, patchesy = plt.hist(y, bins=8)\n",
        "ymode_index = ny.argmax()\n",
        "ys = binsy[ymode_index]\n",
        "\n",
        "thet = robot.r[:,2]\n",
        "nt, binst, patchest = plt.hist(thet, bins=12)\n",
        "tmode_index = nt.argmax()\n",
        "ts = binst[tmode_index]\n",
        "\n",
        "\n",
        "#####\n",
        "desired_xy = np.array([2, 2])\n",
        "x = xs\n",
        "y = ys\n",
        "theta = ts\n",
        "pose = np.eye(3) @ mktr(x, y) @ mkrot(theta)\n",
        "distance_to_target = 10\n",
        "while distance_to_target >=0.2:\n",
        "  \n",
        "  plt.pause(1)\n",
        "  clear_output(wait=True)\n",
        "  # position of target in robot frame\n",
        "  target_rf = np.linalg.inv(pose) @ np.array(\n",
        "      [[desired_xy[0], desired_xy[1], 1]]).T\n",
        "  angle_to_target = np.arctan2(target_rf[1, 0], target_rf[0, 0])\n",
        "  distance_to_target = np.sqrt(np.square(target_rf[0, 0])+np.square(target_rf[1, 0]))\n",
        "\n",
        "  v = speed_controller.step(distance_to_target, dt)\n",
        "  v = np.clip(v, -maxspeed, +maxspeed)\n",
        "  gamma = gamma_controller.step(angle_to_target, dt)\n",
        "  gamma = np.clip(gamma, -maxsteer, +maxsteer)\n",
        "  robot.step(v, gamma, dt)\n",
        "  pose = robot.pose\n",
        "  drawrobot_bicycle(robot.pose, robot.r,gamma, L)"
      ],
      "execution_count": 75,
      "outputs": [
        {
          "output_type": "display_data",
          "data": {
            "image/png": "[encoded data removed]",
            "text/plain": [
              "<Figure size 432x288 with 1 Axes>"
            ]
          },
          "metadata": {
            "tags": [],
            "needs_background": "light"
          }
        }
      ]
    },
    {
      "cell_type": "code",
      "metadata": {
        "id": "XprttgQmAiED"
      },
      "source": [
        ""
      ],
      "execution_count": null,
      "outputs": []
    }
  ]
}